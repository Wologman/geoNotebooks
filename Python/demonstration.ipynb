{
 "cells": [
  {
   "cell_type": "markdown",
   "metadata": {},
   "source": [
    "Anita Graser's example: https://plugins.qgis.org/planet/tag/jupyter/"
   ]
  },
  {
   "cell_type": "code",
   "execution_count": 1,
   "metadata": {},
   "outputs": [],
   "source": [
    "use_case = {'ComputerName': 'Calculon'}  #Replace with 'Alice' or 'Selene' as required  "
   ]
  },
  {
   "cell_type": "markdown",
   "metadata": {},
   "source": [
    "## Introduction\n",
    "\n",
    "The goals \n",
    "- Have an easily managed collection of packages through Conda, \n",
    "- Including the basic functionality of QGIS, \n",
    "- Using specified version of both QGIS and Python\n",
    "- **And** any extra functionality avaliable from QGIS plugins.  Especially the main providers, like Processing, SAGA & GRASS, \n",
    "- Potentially also custom plugins, which can be installed easily into a single base QGIS version for the operating system.\n",
    "\n",
    "These are all the Python paths I get from `sys.path` inside QGIS console (on Linux):  \n",
    "\n",
    "`['/usr/share/qgis/python', '/home/olly/.local/share/QGIS/QGIS3/profiles/default/python', '/home/olly/.local/share/QGIS/QGIS3/profiles/default/python/plugins', '/usr/share/qgis/python/plugins', '/usr/lib/python3.10', '/usr/lib/python3/dist-packages',  '/home/olly/.local/share/QGIS/QGIS3/profiles/default/python']`  \n",
    "\n",
    "It's a little different on Windows, since it Windows QGIS packs with its own Python Interpreter.  Note that on Linux the packags are sitting with the system default Python interpreter.  If we run `sys.path`, & `sys.version` we get:\n",
    "\n",
    "- `/usr/bin/python3`\n",
    "- `3.12.3 (main, Sep 11 2024, 14:17:37) [GCC 13.2.0]`\n",
    "\n",
    "From all this we need the plugins, so that we can manage QGIS plugins using QGIS plugin installation processes \n",
    "whilst accessing them for our Python work.  And also any dynamic links from `LD_LIBRARY_PATH` for any of those plugins that have C bindings.\n",
    "\n",
    "To make this work:\n",
    "1. Add the extra paths must be added to `PYTHONPATH`\n",
    "2. `LD_LIBRARY_PATH` from the base QGIS install needs to be added to `LD_LIBRARY_PATH`\n",
    "3. The IDE needs to know about the extra package paths, for Linting, Autocomplete, Analysis tools etc.\n",
    "4. The Conda environment is activated in the usual way before the code is run.\n",
    "\n",
    "To run a Python .py script using this environment from terminal outside of any IDE considerations, go to the folder holding the scripts and the .env, then:\n",
    "1. `conda activate my_environment`  \n",
    "2. `source .env`  (Setus up all the paths and stores in environment variables)\n",
    "3. `my_test_script.py`   (Uses the interpreter from the .env to run the Python script)"
   ]
  },
  {
   "cell_type": "markdown",
   "metadata": {},
   "source": [
    "### Imports\n",
    "First let's try some QGIS imports.  I'm currently having trouble with VSCode's linting functionality here, but everything else seems to work."
   ]
  },
  {
   "cell_type": "code",
   "execution_count": 2,
   "metadata": {},
   "outputs": [],
   "source": [
    "import qgis\n",
    "from qgis.gui import *\n",
    "from qgis.gui import QgsGeographicCoordinateNumericFormatWidget #Just a random example\n",
    "from qgis.core import *\n",
    "from qgis.utils import plugins\n",
    "from qgis.analysis import QgsNativeAlgorithms \n",
    "from PyQt5.QtCore import *\n",
    "from PyQt5.QtWidgets import QApplication\n",
    "from processing.core.Processing import processing"
   ]
  },
  {
   "cell_type": "markdown",
   "metadata": {},
   "source": [
    "Now any other imports from Conda or standard Python"
   ]
  },
  {
   "cell_type": "code",
   "execution_count": 3,
   "metadata": {},
   "outputs": [],
   "source": [
    "#Standard Python\n",
    "import os, sys, time, warnings\n",
    "from pathlib import Path\n",
    "\n",
    "#Conda\n",
    "from osgeo import gdal\n",
    "import cv2\n",
    "from PIL import Image\n",
    "import piexif \n",
    "import matplotlib\n",
    "import pandas as pd\n",
    "import geopandas as gpd\n",
    "import plotly.express as px\n",
    "import seaborn as sns\n",
    "import sklearn as skl\n",
    "import scipy\n",
    "import shapely\n",
    "import cartopy\n",
    "import folium\n",
    "import geoviews\n",
    "import dotenv\n",
    "import arrow\n",
    "import yaml\n",
    "import fastparquet\n",
    "import xmltodict\n",
    "import rasterio    \n",
    "import rasterstats\n",
    "import contextily\n",
    "import ipyleaflet"
   ]
  },
  {
   "cell_type": "markdown",
   "metadata": {},
   "source": [
    "### Settings & Filepaths"
   ]
  },
  {
   "cell_type": "code",
   "execution_count": 4,
   "metadata": {},
   "outputs": [],
   "source": [
    "if use_case['ComputerName'] =='Calculon':  #Windows\n",
    "    project_path = Path(\"F:/Documents/GIS/Notebooks\")\n",
    "    qgis_prefix = 'C:/Program Files/QGIS 3.38.2'\n",
    "elif use_case['ComputerName'] in ['Alice', 'Selene']:  #Linux\n",
    "    project_path = Path(\"/media/olly/Blue Samsung SSD/Documents/GIS/Documents/GIS/Notebooks\")\n",
    "    qgis_prefix = '/usr'\n",
    "\n",
    "working = project_path / 'Working'\n",
    "data = project_path / 'Data'\n",
    "results = project_path / 'Results'\n",
    "\n",
    "project_path = str(working / 'geo_test_project.qgz')\n",
    "shapefile_path = str(data / 'kx-doc-huts-SHP/doc-huts.shp')\n",
    "buffer_output_path = str(working / 'buffer.shp')"
   ]
  },
  {
   "cell_type": "markdown",
   "metadata": {},
   "source": [
    "### QGIS Examples"
   ]
  },
  {
   "cell_type": "code",
   "execution_count": 5,
   "metadata": {},
   "outputs": [],
   "source": [
    "QgsApplication.setPrefixPath(qgis_prefix, True)"
   ]
  },
  {
   "cell_type": "code",
   "execution_count": 6,
   "metadata": {},
   "outputs": [],
   "source": [
    "#Something going on here, we can't seem to run this cell more than once without re-starting the kernel first.\n",
    "#app = QgsApplication([], False)\n",
    "app = QApplication([])\n",
    "qgs = QgsApplication([], False)\n",
    "qgs.initQgis()  \n",
    "#app.exit()  # doesn't help\n"
   ]
  },
  {
   "cell_type": "code",
   "execution_count": 7,
   "metadata": {},
   "outputs": [
    {
     "name": "stdout",
     "output_type": "stream",
     "text": [
      "F:/Documents/GIS/Notebooks/Working/geo_test_project.qgz\n"
     ]
    }
   ],
   "source": [
    "project = QgsProject.instance()\n",
    "canvas = QgsMapCanvas()\n",
    "#map_crs = QgsCoordinateReferenceSystem('EPSG:3857')\n",
    "project.read(project_path)  \n",
    "print(project.fileName())"
   ]
  },
  {
   "cell_type": "markdown",
   "metadata": {},
   "source": [
    "I'm not convinced there is much point opening an existing project  Wouldn't would be unusual to run a notebook on a partly processed project?  But it might be more likely to save out a project, then open in QGIS.  Or maybe this would be handy to automate some complicated part of a larger body of work without making it into a dedicated plugin?\n",
    "\n",
    "Let's have a look at the processing registry now."
   ]
  },
  {
   "cell_type": "code",
   "execution_count": 8,
   "metadata": {},
   "outputs": [
    {
     "name": "stdout",
     "output_type": "stream",
     "text": [
      "['OAPIF', 'WFS', 'arcgisfeatureserver', 'arcgismapserver', 'arcgisvectortileservice', 'cesiumtiles']\n",
      "['copc', 'delimitedtext', 'ept', 'gdal', 'gpx', 'mbtilesvectortiles']\n",
      "['mdal', 'memory', 'mesh_memory', 'mssql', 'ogr', 'pdal']\n",
      "['postgres', 'postgresraster', 'sensorthings', 'spatialite', 'tiledscene', 'vectortile']\n",
      "['virtual', 'virtualraster', 'vpc', 'vtpkvectortiles', 'wcs', 'wms']\n",
      "['xyzvectortiles']\n"
     ]
    }
   ],
   "source": [
    "providers = QgsProviderRegistry.instance().providerList()\n",
    "for i in range(0, len(providers), 6):\n",
    "    print(providers[i:i+6])"
   ]
  },
  {
   "cell_type": "code",
   "execution_count": 9,
   "metadata": {},
   "outputs": [
    {
     "name": "stdout",
     "output_type": "stream",
     "text": [
      "native:addautoincrementalfield ---> Add autoincremental field\n",
      "native:addfieldtoattributestable ---> Add field to attributes table\n",
      "native:adduniquevalueindexfield ---> Add unique value index field\n",
      "native:addxyfields ---> Add X/Y fields to layer\n",
      "native:affinetransform ---> Affine transform\n",
      "native:aggregate ---> Aggregate\n"
     ]
    }
   ],
   "source": [
    "QgsApplication.processingRegistry().addProvider(QgsNativeAlgorithms())\n",
    "for idx, alg in enumerate(QgsApplication.processingRegistry().algorithms()):\n",
    "    if idx <=5:\n",
    "       print(alg.id(), \"--->\", alg.displayName())"
   ]
  },
  {
   "cell_type": "markdown",
   "metadata": {},
   "source": [
    "Now try to demonstrate some actual processing of something, with the native processes"
   ]
  },
  {
   "cell_type": "code",
   "execution_count": 14,
   "metadata": {},
   "outputs": [],
   "source": [
    "v_layer = QgsVectorLayer(shapefile_path, 'input_layer', 'ogr')  \n",
    "\n",
    "if v_layer.isValid():\n",
    "    project.addMapLayer(v_layer)\n",
    "else:\n",
    "    print(\"Layer failed to load!\")\n",
    "project.addMapLayer(v_layer)\n",
    "\n",
    "processing.run(\"native:buffer\", {\n",
    "    'INPUT': v_layer,\n",
    "    'DISTANCE': 100,\n",
    "    'OUTPUT': buffer_output_path\n",
    "})\n",
    "\n",
    "project.write(project_path)\n",
    "app.exit()"
   ]
  },
  {
   "cell_type": "markdown",
   "metadata": {},
   "source": [
    "### Pure Python Geoprocessing\n",
    "Let's try some familiar geo processing straight from Conda libraries too"
   ]
  },
  {
   "cell_type": "code",
   "execution_count": 11,
   "metadata": {},
   "outputs": [
    {
     "data": {
      "text/plain": [
       "<Axes: >"
      ]
     },
     "execution_count": 11,
     "metadata": {},
     "output_type": "execute_result"
    },
    {
     "data": {
      "image/png": "[encoded data removed]",
      "text/plain": [
       "<Figure size 640x480 with 1 Axes>"
      ]
     },
     "metadata": {},
     "output_type": "display_data"
    }
   ],
   "source": [
    "gdf = gpd.read_file(shapefile_path)\n",
    "gdf.plot()"
   ]
  },
  {
   "cell_type": "code",
   "execution_count": 12,
   "metadata": {},
   "outputs": [
    {
     "data": {
      "text/html": [
       "<div>\n",
       "<style scoped>\n",
       "    .dataframe tbody tr th:only-of-type {\n",
       "        vertical-align: middle;\n",
       "    }\n",
       "\n",
       "    .dataframe tbody tr th {\n",
       "        vertical-align: top;\n",
       "    }\n",
       "\n",
       "    .dataframe thead th {\n",
       "        text-align: right;\n",
       "    }\n",
       "</style>\n",
       "<table border=\"1\" class=\"dataframe\">\n",
       "  <thead>\n",
       "    <tr style=\"text-align: right;\">\n",
       "      <th></th>\n",
       "      <th>STATUS</th>\n",
       "      <th>DESCRIPTIO</th>\n",
       "      <th>CATEGORY_D</th>\n",
       "      <th>OBJECT_TYP</th>\n",
       "      <th>geometry</th>\n",
       "    </tr>\n",
       "  </thead>\n",
       "  <tbody>\n",
       "    <tr>\n",
       "      <th>0</th>\n",
       "      <td>OPEN</td>\n",
       "      <td>Glenrae Hut</td>\n",
       "      <td>Buildings</td>\n",
       "      <td>Basic Hut/bivvy</td>\n",
       "      <td>POINT (1553678 5265191)</td>\n",
       "    </tr>\n",
       "    <tr>\n",
       "      <th>1</th>\n",
       "      <td>OPEN</td>\n",
       "      <td>Lake Alabaster Hut</td>\n",
       "      <td>Buildings</td>\n",
       "      <td>Serviced Hut</td>\n",
       "      <td>POINT (1214223 5055952)</td>\n",
       "    </tr>\n",
       "    <tr>\n",
       "      <th>2</th>\n",
       "      <td>OPEN</td>\n",
       "      <td>Steele Creek Hut</td>\n",
       "      <td>Buildings</td>\n",
       "      <td>Basic Hut/bivvy</td>\n",
       "      <td>POINT (1222335 5014107)</td>\n",
       "    </tr>\n",
       "  </tbody>\n",
       "</table>\n",
       "</div>"
      ],
      "text/plain": [
       "  STATUS          DESCRIPTIO CATEGORY_D       OBJECT_TYP  \\\n",
       "0   OPEN         Glenrae Hut  Buildings  Basic Hut/bivvy   \n",
       "1   OPEN  Lake Alabaster Hut  Buildings     Serviced Hut   \n",
       "2   OPEN    Steele Creek Hut  Buildings  Basic Hut/bivvy   \n",
       "\n",
       "                  geometry  \n",
       "0  POINT (1553678 5265191)  \n",
       "1  POINT (1214223 5055952)  \n",
       "2  POINT (1222335 5014107)  "
      ]
     },
     "execution_count": 12,
     "metadata": {},
     "output_type": "execute_result"
    }
   ],
   "source": [
    "gdf.head(3)"
   ]
  },
  {
   "cell_type": "code",
   "execution_count": 13,
   "metadata": {},
   "outputs": [
    {
     "name": "stdout",
     "output_type": "stream",
     "text": [
      "\u001b[1m\u001b[94mGod damn it Gump you're goddamn genius. \n",
      "That's the most outstanding answer I've ever heard.\n",
      "You must have a goddam IQ of 160.\n",
      "You are goddam gifted private Gump.\u001b[0m\n"
     ]
    }
   ],
   "source": [
    "print('\\033[1m' + '\\033[94m' + \"God damn it Gump you're goddamn genius. \\n\"\n",
    "      \"That's the most outstanding answer I've ever heard.\\n\"\n",
    "      \"You must have a goddam IQ of 160.\\n\"\n",
    "      \"You are goddam gifted private Gump.\" + '\\033[0m')"
   ]
  }
 ],
 "metadata": {
  "kernelspec": {
   "display_name": "condaQGIS",
   "language": "python",
   "name": "python3"
  },
  "language_info": {
   "codemirror_mode": {
    "name": "ipython",
    "version": 3
   },
   "file_extension": ".py",
   "mimetype": "text/x-python",
   "name": "python",
   "nbconvert_exporter": "python",
   "pygments_lexer": "ipython3",
   "version": "3.11.0"
  }
 },
 "nbformat": 4,
 "nbformat_minor": 2
}
